{
 "cells": [
  {
   "cell_type": "markdown",
   "id": "b352f7ad",
   "metadata": {},
   "source": [
    "## Double Chance Analysis\n",
    "Load unified season data and compute value edge for double chance bets."
   ]
  },
  {
   "cell_type": "code",
   "execution_count": null,
   "id": "115ab3ca",
   "metadata": {},
   "outputs": [],
   "source": [
    "import pandas as pd\n",
    "from pathlib import Path\n",
    "import numpy as np\n",
    "\n",
    "data_dir = Path('../../')\n",
    "csv_files = sorted(data_dir.glob('england-national-league-matches-*-stats.csv'))\n",
    "df = pd.concat((pd.read_csv(f) for f in csv_files), ignore_index=True)\n",
    "df.head()"
   ]
  },
  {
   "cell_type": "code",
   "execution_count": null,
   "id": "8cefd682",
   "metadata": {},
   "outputs": [],
   "source": [
    "df['result'] = np.select([\n",
    "    df['home_team_goal_count'] > df['away_team_goal_count'],\n",
    "    df['home_team_goal_count'] < df['away_team_goal_count']\n",
    "], ['home', 'away'], default='draw')\n",
    "\n",
    "p_home_win = (df['result'] == 'home').mean()\n",
    "p_draw = (df['result'] == 'draw').mean()\n",
    "p_away_win = (df['result'] == 'away').mean()\n",
    "\n",
    "p_home_or_draw = p_home_win + p_draw\n",
    "p_away_or_draw = p_away_win + p_draw\n",
    "\n",
    "df['p_home_or_draw'] = p_home_or_draw\n",
    "df['p_away_or_draw'] = p_away_or_draw"
   ]
  },
  {
   "cell_type": "code",
   "execution_count": null,
   "id": "0e958dc8",
   "metadata": {},
   "outputs": [],
   "source": [
    "df['odds_home_or_draw'] = 1 / (1/df['odds_ft_home_team_win'] + 1/df['odds_ft_draw'])\n",
    "df['odds_away_or_draw'] = 1 / (1/df['odds_ft_away_team_win'] + 1/df['odds_ft_draw'])\n",
    "df['home_or_draw_edge'] = df['p_home_or_draw'] * df['odds_home_or_draw'] - 1\n",
    "df['away_or_draw_edge'] = df['p_away_or_draw'] * df['odds_away_or_draw'] - 1\n",
    "df[['home_team_name','away_team_name','p_home_or_draw','odds_home_or_draw','home_or_draw_edge','p_away_or_draw','odds_away_or_draw','away_or_draw_edge']].head()"
   ]
  }
 ],
 "metadata": {},
 "nbformat": 4,
 "nbformat_minor": 5
}
