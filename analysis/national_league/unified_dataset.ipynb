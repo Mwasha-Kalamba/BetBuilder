{
 "cells": [
  {
   "cell_type": "code",
   "execution_count": null,
   "metadata": {},
   "outputs": [],
   "source": [
    "import pandas as pd\n",
    "from pathlib import Path\n",
    "\n",
    "files = [\n",
    "    Path('england-national-league-matches-2023-to-2024-stats.csv'),\n",
    "    Path('england-national-league-matches-2024-to-2025-stats.csv'),\n",
    "    Path('england-national-league-matches-2025-to-2026-stats.csv')\n",
    "]\n",
    "frames = [pd.read_csv(f) for f in files]\n",
    "df = pd.concat(frames, ignore_index=True)\n",
    "df['timestamp'] = pd.to_datetime(df['timestamp'], unit='s')\n",
    "df['date_GMT'] = pd.to_datetime(df['date_GMT'], format='%b %d %Y - %I:%M%p')\n",
    "non_numeric = ['status', 'home_team_name', 'away_team_name', 'referee', 'home_team_goal_timings', 'away_team_goal_timings', 'stadium_name']\n",
    "numeric_cols = df.columns.difference(non_numeric + ['timestamp', 'date_GMT'])\n",
    "df[numeric_cols] = df[numeric_cols].apply(pd.to_numeric, errors='coerce')\n",
    "out_path = Path('analysis/national_league/unified_dataset.csv')\n",
    "out_path.parent.mkdir(parents=True, exist_ok=True)\n",
    "df.to_csv(out_path, index=False)\n",
    "df.head()\n"
   ]
  }
 ],
 "metadata": {
  "kernelspec": {
   "display_name": "Python 3",
   "language": "python",
   "name": "python3"
  },
  "language_info": {
   "name": "python",
   "version": "3.x"
  }
 },
 "nbformat": 4,
 "nbformat_minor": 5
}
